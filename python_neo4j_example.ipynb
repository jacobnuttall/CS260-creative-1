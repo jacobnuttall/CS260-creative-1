{
  "nbformat": 4,
  "nbformat_minor": 0,
  "metadata": {
    "colab": {
      "provenance": [],
      "include_colab_link": true
    },
    "kernelspec": {
      "name": "python3",
      "display_name": "Python 3"
    }
  },
  "cells": [
    {
      "cell_type": "markdown",
      "metadata": {
        "id": "view-in-github",
        "colab_type": "text"
      },
      "source": [
        "<a href=\"https://colab.research.google.com/github/jacobnuttall/CS260-creative-1/blob/master/python_neo4j_example.ipynb\" target=\"_parent\"><img src=\"https://colab.research.google.com/assets/colab-badge.svg\" alt=\"Open In Colab\"/></a>"
      ]
    },
    {
      "cell_type": "markdown",
      "metadata": {
        "id": "hyRzL92UBLbz"
      },
      "source": [
        "# Introduction\n",
        "\n",
        "This notebook accompanies this (*link coming*) Towards Data Science blog post by Clair J. Sullivan titled \"Create a graph database in Neo4j using Python: \n",
        "from data cleaning to graph population.\"  The bulk of what is demonstrated below is described in detail in the blog post, so that is the first place to check for detailed explanations.\n",
        "\n",
        "All questions or comments should be directed to her at clair.sullivan@neo4j.com or on Twitter at @CJLovesData1."
      ]
    },
    {
      "cell_type": "markdown",
      "metadata": {
        "id": "Yx8ZEB3qBNTN"
      },
      "source": [
        "# Obtaining the data\n",
        "\n",
        "The first portion of this notebook makes a connection to Kaggle for the purpose of downloading the [arXiv dataset](https://www.kaggle.com/Cornell-University/arxiv).  \n",
        "\n",
        "In order to run it, you will need to have an API key for Kaggle, which we will use to set up the Kaggle CLI in this notebook.  Instructions for how to do this can be found in [this Medium post](https://medium.com/analytics-vidhya/how-to-fetch-kaggle-datasets-into-google-colab-ea682569851a).\n",
        "\n",
        "The zipped archive of the dataset is approximately 960 MB and unzipped is approximately 2.6 GB.  You can upload it yourself to Google rather than making the connection via the Kaggle CLI as shown below, but this CLI method is significantly faster."
      ]
    },
    {
      "cell_type": "code",
      "metadata": {
        "id": "uN4fLCS5BEtw"
      },
      "source": [
        "!pip install -q kaggle"
      ],
      "execution_count": 1,
      "outputs": []
    },
    {
      "cell_type": "code",
      "metadata": {
        "id": "j_ihuCKPBWY-"
      },
      "source": [
        "from google.colab import files"
      ],
      "execution_count": 2,
      "outputs": []
    },
    {
      "cell_type": "markdown",
      "metadata": {
        "id": "NbjQuugPBbLz"
      },
      "source": [
        "## Note\n",
        "In this next row, you will upload your kaggle.json file associated with your API key to Google, which is used in the following steps."
      ]
    },
    {
      "cell_type": "code",
      "metadata": {
        "id": "guXxJj1nBZMe",
        "colab": {
          "base_uri": "https://localhost:8080/",
          "height": 130
        },
        "outputId": "5f4d8c16-83cd-4ba8-9550-6dbc3cbb9060"
      },
      "source": [
        "files.upload()"
      ],
      "execution_count": 3,
      "outputs": [
        {
          "output_type": "display_data",
          "data": {
            "text/plain": [
              "<IPython.core.display.HTML object>"
            ],
            "text/html": [
              "\n",
              "     <input type=\"file\" id=\"files-a9efe50e-8579-451e-9a4b-7af4210e3d3c\" name=\"files[]\" multiple disabled\n",
              "        style=\"border:none\" />\n",
              "     <output id=\"result-a9efe50e-8579-451e-9a4b-7af4210e3d3c\">\n",
              "      Upload widget is only available when the cell has been executed in the\n",
              "      current browser session. Please rerun this cell to enable.\n",
              "      </output>\n",
              "      <script>// Copyright 2017 Google LLC\n",
              "//\n",
              "// Licensed under the Apache License, Version 2.0 (the \"License\");\n",
              "// you may not use this file except in compliance with the License.\n",
              "// You may obtain a copy of the License at\n",
              "//\n",
              "//      http://www.apache.org/licenses/LICENSE-2.0\n",
              "//\n",
              "// Unless required by applicable law or agreed to in writing, software\n",
              "// distributed under the License is distributed on an \"AS IS\" BASIS,\n",
              "// WITHOUT WARRANTIES OR CONDITIONS OF ANY KIND, either express or implied.\n",
              "// See the License for the specific language governing permissions and\n",
              "// limitations under the License.\n",
              "\n",
              "/**\n",
              " * @fileoverview Helpers for google.colab Python module.\n",
              " */\n",
              "(function(scope) {\n",
              "function span(text, styleAttributes = {}) {\n",
              "  const element = document.createElement('span');\n",
              "  element.textContent = text;\n",
              "  for (const key of Object.keys(styleAttributes)) {\n",
              "    element.style[key] = styleAttributes[key];\n",
              "  }\n",
              "  return element;\n",
              "}\n",
              "\n",
              "// Max number of bytes which will be uploaded at a time.\n",
              "const MAX_PAYLOAD_SIZE = 100 * 1024;\n",
              "\n",
              "function _uploadFiles(inputId, outputId) {\n",
              "  const steps = uploadFilesStep(inputId, outputId);\n",
              "  const outputElement = document.getElementById(outputId);\n",
              "  // Cache steps on the outputElement to make it available for the next call\n",
              "  // to uploadFilesContinue from Python.\n",
              "  outputElement.steps = steps;\n",
              "\n",
              "  return _uploadFilesContinue(outputId);\n",
              "}\n",
              "\n",
              "// This is roughly an async generator (not supported in the browser yet),\n",
              "// where there are multiple asynchronous steps and the Python side is going\n",
              "// to poll for completion of each step.\n",
              "// This uses a Promise to block the python side on completion of each step,\n",
              "// then passes the result of the previous step as the input to the next step.\n",
              "function _uploadFilesContinue(outputId) {\n",
              "  const outputElement = document.getElementById(outputId);\n",
              "  const steps = outputElement.steps;\n",
              "\n",
              "  const next = steps.next(outputElement.lastPromiseValue);\n",
              "  return Promise.resolve(next.value.promise).then((value) => {\n",
              "    // Cache the last promise value to make it available to the next\n",
              "    // step of the generator.\n",
              "    outputElement.lastPromiseValue = value;\n",
              "    return next.value.response;\n",
              "  });\n",
              "}\n",
              "\n",
              "/**\n",
              " * Generator function which is called between each async step of the upload\n",
              " * process.\n",
              " * @param {string} inputId Element ID of the input file picker element.\n",
              " * @param {string} outputId Element ID of the output display.\n",
              " * @return {!Iterable<!Object>} Iterable of next steps.\n",
              " */\n",
              "function* uploadFilesStep(inputId, outputId) {\n",
              "  const inputElement = document.getElementById(inputId);\n",
              "  inputElement.disabled = false;\n",
              "\n",
              "  const outputElement = document.getElementById(outputId);\n",
              "  outputElement.innerHTML = '';\n",
              "\n",
              "  const pickedPromise = new Promise((resolve) => {\n",
              "    inputElement.addEventListener('change', (e) => {\n",
              "      resolve(e.target.files);\n",
              "    });\n",
              "  });\n",
              "\n",
              "  const cancel = document.createElement('button');\n",
              "  inputElement.parentElement.appendChild(cancel);\n",
              "  cancel.textContent = 'Cancel upload';\n",
              "  const cancelPromise = new Promise((resolve) => {\n",
              "    cancel.onclick = () => {\n",
              "      resolve(null);\n",
              "    };\n",
              "  });\n",
              "\n",
              "  // Wait for the user to pick the files.\n",
              "  const files = yield {\n",
              "    promise: Promise.race([pickedPromise, cancelPromise]),\n",
              "    response: {\n",
              "      action: 'starting',\n",
              "    }\n",
              "  };\n",
              "\n",
              "  cancel.remove();\n",
              "\n",
              "  // Disable the input element since further picks are not allowed.\n",
              "  inputElement.disabled = true;\n",
              "\n",
              "  if (!files) {\n",
              "    return {\n",
              "      response: {\n",
              "        action: 'complete',\n",
              "      }\n",
              "    };\n",
              "  }\n",
              "\n",
              "  for (const file of files) {\n",
              "    const li = document.createElement('li');\n",
              "    li.append(span(file.name, {fontWeight: 'bold'}));\n",
              "    li.append(span(\n",
              "        `(${file.type || 'n/a'}) - ${file.size} bytes, ` +\n",
              "        `last modified: ${\n",
              "            file.lastModifiedDate ? file.lastModifiedDate.toLocaleDateString() :\n",
              "                                    'n/a'} - `));\n",
              "    const percent = span('0% done');\n",
              "    li.appendChild(percent);\n",
              "\n",
              "    outputElement.appendChild(li);\n",
              "\n",
              "    const fileDataPromise = new Promise((resolve) => {\n",
              "      const reader = new FileReader();\n",
              "      reader.onload = (e) => {\n",
              "        resolve(e.target.result);\n",
              "      };\n",
              "      reader.readAsArrayBuffer(file);\n",
              "    });\n",
              "    // Wait for the data to be ready.\n",
              "    let fileData = yield {\n",
              "      promise: fileDataPromise,\n",
              "      response: {\n",
              "        action: 'continue',\n",
              "      }\n",
              "    };\n",
              "\n",
              "    // Use a chunked sending to avoid message size limits. See b/62115660.\n",
              "    let position = 0;\n",
              "    do {\n",
              "      const length = Math.min(fileData.byteLength - position, MAX_PAYLOAD_SIZE);\n",
              "      const chunk = new Uint8Array(fileData, position, length);\n",
              "      position += length;\n",
              "\n",
              "      const base64 = btoa(String.fromCharCode.apply(null, chunk));\n",
              "      yield {\n",
              "        response: {\n",
              "          action: 'append',\n",
              "          file: file.name,\n",
              "          data: base64,\n",
              "        },\n",
              "      };\n",
              "\n",
              "      let percentDone = fileData.byteLength === 0 ?\n",
              "          100 :\n",
              "          Math.round((position / fileData.byteLength) * 100);\n",
              "      percent.textContent = `${percentDone}% done`;\n",
              "\n",
              "    } while (position < fileData.byteLength);\n",
              "  }\n",
              "\n",
              "  // All done.\n",
              "  yield {\n",
              "    response: {\n",
              "      action: 'complete',\n",
              "    }\n",
              "  };\n",
              "}\n",
              "\n",
              "scope.google = scope.google || {};\n",
              "scope.google.colab = scope.google.colab || {};\n",
              "scope.google.colab._files = {\n",
              "  _uploadFiles,\n",
              "  _uploadFilesContinue,\n",
              "};\n",
              "})(self);\n",
              "</script> "
            ]
          },
          "metadata": {}
        },
        {
          "output_type": "stream",
          "name": "stdout",
          "text": [
            "Saving kaggle.json to kaggle.json\n"
          ]
        },
        {
          "output_type": "execute_result",
          "data": {
            "text/plain": [
              "{'kaggle.json': b'{\"username\":\"jacobnuttall176\",\"key\":\"79653ffe3e5cf9f4862b1dbdc1c4ae1e\"}'}"
            ]
          },
          "metadata": {},
          "execution_count": 3
        }
      ]
    },
    {
      "cell_type": "code",
      "metadata": {
        "colab": {
          "base_uri": "https://localhost:8080/"
        },
        "id": "5gicb7sWBjwd",
        "outputId": "02deb20a-0cc1-4dd6-b074-0d3df500a375"
      },
      "source": [
        "!mkdir ~/.kaggle\n",
        "!cp kaggle.json ~/.kaggle\n",
        "!chmod 600 ~/.kaggle/kaggle.json\n",
        "!kaggle datasets list"
      ],
      "execution_count": 4,
      "outputs": [
        {
          "output_type": "stream",
          "name": "stdout",
          "text": [
            "ref                                                             title                                                size  lastUpdated          downloadCount  voteCount  usabilityRating  \n",
            "--------------------------------------------------------------  --------------------------------------------------  -----  -------------------  -------------  ---------  ---------------  \n",
            "meirnizri/covid19-dataset                                       COVID-19 Dataset                                      5MB  2022-11-13 15:47:17           6665        196  1.0              \n",
            "madhurpant/world-deaths-and-causes-1990-2019                    World Deaths and Causes (1990 - 2019)               442KB  2022-11-29 07:09:27           1235         31  1.0              \n",
            "thedevastator/jobs-dataset-from-glassdoor                       Salary Prediction                                     3MB  2022-11-16 13:52:31           4390        100  1.0              \n",
            "thedevastator/how-much-sleep-do-americans-really-get            How Much Sleep Do Americans Really Get?               8KB  2022-11-25 09:13:12            844         31  1.0              \n",
            "akshaydattatraykhare/data-for-admission-in-the-university       Data for Admission in the University                  4KB  2022-10-27 11:05:45           8113        175  1.0              \n",
            "aguado/bike-rental-data-set-uci                                 Bike Rental Data Set - UCI                          124KB  2022-11-30 10:31:04            770         27  1.0              \n",
            "dbarteaux99/stable-diffusion-1-5                                Stable Diffusion 1.5 (normal and EMAonly) with vae    7GB  2022-10-23 15:40:29            122         20  0.9375           \n",
            "whenamancodes/predict-diabities                                 Predict Diabetes                                      9KB  2022-11-09 12:18:49           4664         88  1.0              \n",
            "die9origephit/fifa-world-cup-2022-complete-dataset              Fifa World Cup 2022: Complete Dataset                 7KB  2022-12-07 11:22:54            522         39  0.9411765        \n",
            "prosperchuks/health-dataset                                     Diabetes, Hypertension and Stroke Prediction        597KB  2022-11-23 10:04:03           1951         49  1.0              \n",
            "mvieira101/global-cost-of-living                                Global Cost of Living                                 1MB  2022-12-03 16:37:53           1439         40  0.9705882        \n",
            "thedevastator/cancer-patients-and-air-pollution-a-new-link       Lung Cancer Prediction                               7KB  2022-11-14 13:40:40           2856         67  1.0              \n",
            "thedevastator/nike-usa-products-prices-descriptions-and-custom  Nike Products: Prices, Descriptions, Reviews         47KB  2022-11-28 07:01:00           1254         27  1.0              \n",
            "piterfm/fifa-football-world-cup                                 FIFA Football World Cup                             179KB  2022-12-07 11:07:09           2304         63  1.0              \n",
            "notshrirang/spotify-million-song-dataset                        Spotify Million Song Dataset                         21MB  2022-11-21 16:48:45           1587         36  1.0              \n",
            "theakhilb/layoffs-data-2022                                     Layoffs Dataset 2022                                101KB  2022-12-08 12:03:06            782         25  1.0              \n",
            "akshaydattatraykhare/diabetes-dataset                           Diabetes Dataset                                      9KB  2022-10-06 08:55:25          22415        582  1.0              \n",
            "catherinerasgaitis/mxmh-survey-results                          Music & Mental Health Survey Results                 22KB  2022-11-21 10:03:12           1594         37  1.0              \n",
            "malayvyas/usa-gdp-dataset-19612021                              USA GDP Growth Dataset 1961-2021                     10KB  2022-12-01 16:10:46            428         25  0.88235295       \n",
            "sulphatet/daily-weather-data-40-years                           daily weather data: 40 years                          1MB  2022-11-30 17:51:22            403         25  0.7647059        \n"
          ]
        }
      ]
    },
    {
      "cell_type": "code",
      "metadata": {
        "colab": {
          "base_uri": "https://localhost:8080/"
        },
        "id": "TyE0VR0xBn31",
        "outputId": "aee08086-ab7f-4cfd-9c7f-abd02bdbf8be"
      },
      "source": [
        "!kaggle datasets download -d Cornell-University/arxiv"
      ],
      "execution_count": 5,
      "outputs": [
        {
          "output_type": "stream",
          "name": "stdout",
          "text": [
            "Downloading arxiv.zip to /content\n",
            " 98% 1.08G/1.10G [00:04<00:00, 269MB/s]\n",
            "100% 1.10G/1.10G [00:04<00:00, 245MB/s]\n"
          ]
        }
      ]
    },
    {
      "cell_type": "code",
      "metadata": {
        "colab": {
          "base_uri": "https://localhost:8080/"
        },
        "id": "HNn-CnR-Br6z",
        "outputId": "23f657e0-20a0-44c5-813e-9dda3c233d81"
      },
      "source": [
        "!unzip \\*.zip && rm *.zip"
      ],
      "execution_count": 6,
      "outputs": [
        {
          "output_type": "stream",
          "name": "stdout",
          "text": [
            "Archive:  arxiv.zip\n",
            "  inflating: arxiv-metadata-oai-snapshot.json  \n"
          ]
        }
      ]
    },
    {
      "cell_type": "markdown",
      "metadata": {
        "id": "WrxjgfYXByrh"
      },
      "source": [
        "# Prepare the remainder of the Python environment\n",
        "\n",
        "Note that `tqdm` is optional, but I like to use it so I can tell where we are in the overall population of the dataframe, knowing that the file is approximately 1.79M rows long."
      ]
    },
    {
      "cell_type": "code",
      "metadata": {
        "colab": {
          "base_uri": "https://localhost:8080/"
        },
        "id": "nPxD0w-EBvNC",
        "outputId": "a4fd180b-c3bc-4553-a9b4-a0fbb17dc324"
      },
      "source": [
        "!pip install neo4j\n",
        "!pip install tqdm"
      ],
      "execution_count": 7,
      "outputs": [
        {
          "output_type": "stream",
          "name": "stdout",
          "text": [
            "Looking in indexes: https://pypi.org/simple, https://us-python.pkg.dev/colab-wheels/public/simple/\n",
            "Collecting neo4j\n",
            "  Downloading neo4j-5.3.0.tar.gz (157 kB)\n",
            "\u001b[K     |████████████████████████████████| 157 kB 5.3 MB/s \n",
            "\u001b[?25h  Installing build dependencies ... \u001b[?25l\u001b[?25hdone\n",
            "  Getting requirements to build wheel ... \u001b[?25l\u001b[?25hdone\n",
            "  Installing backend dependencies ... \u001b[?25l\u001b[?25hdone\n",
            "    Preparing wheel metadata ... \u001b[?25l\u001b[?25hdone\n",
            "\u001b[33m  WARNING: Generating metadata for package neo4j produced metadata for project name unknown. Fix your #egg=neo4j fragments.\u001b[0m\n",
            "\u001b[33mWARNING: Discarding https://files.pythonhosted.org/packages/56/84/c4ac67441e6f2c68e859e64631d6a218a922a2aca0603dcf96ff99f17734/neo4j-5.3.0.tar.gz#sha256=0c1c7d8812eed60da0a442d1e0f35edbda248255703e506a081cb70e083b3b5c (from https://pypi.org/simple/neo4j/) (requires-python:>=3.7). Requested unknown from https://files.pythonhosted.org/packages/56/84/c4ac67441e6f2c68e859e64631d6a218a922a2aca0603dcf96ff99f17734/neo4j-5.3.0.tar.gz#sha256=0c1c7d8812eed60da0a442d1e0f35edbda248255703e506a081cb70e083b3b5c has inconsistent name: filename has 'neo4j', but metadata has 'UNKNOWN'\u001b[0m\n",
            "  Downloading neo4j-5.2.1.tar.gz (174 kB)\n",
            "\u001b[K     |████████████████████████████████| 174 kB 46.4 MB/s \n",
            "\u001b[?25hRequirement already satisfied: pytz in /usr/local/lib/python3.8/dist-packages (from neo4j) (2022.6)\n",
            "Building wheels for collected packages: neo4j\n",
            "  Building wheel for neo4j (setup.py) ... \u001b[?25l\u001b[?25hdone\n",
            "  Created wheel for neo4j: filename=neo4j-5.2.1-py3-none-any.whl size=249499 sha256=574e6b70c4acf6545d2a1524c48df5fa303c258610804869bfd6176981d23fb1\n",
            "  Stored in directory: /root/.cache/pip/wheels/3f/cb/09/5c56a88c1650f9d4fe57e59d9a67a5d77fcef88f55d5c233f1\n",
            "Successfully built neo4j\n",
            "Installing collected packages: neo4j\n",
            "Successfully installed neo4j-5.2.1\n",
            "Looking in indexes: https://pypi.org/simple, https://us-python.pkg.dev/colab-wheels/public/simple/\n",
            "Requirement already satisfied: tqdm in /usr/local/lib/python3.8/dist-packages (4.64.1)\n"
          ]
        }
      ]
    },
    {
      "cell_type": "code",
      "metadata": {
        "id": "fFpF6HMiB4Fc"
      },
      "source": [
        "%matplotlib inline\n",
        "\n",
        "import json\n",
        "import time\n",
        "\n",
        "import pandas as pd\n",
        "import seaborn as sns\n",
        "import matplotlib.pyplot as plt\n",
        "from tqdm import tqdm\n",
        "from neo4j import GraphDatabase"
      ],
      "execution_count": 8,
      "outputs": []
    },
    {
      "cell_type": "markdown",
      "metadata": {
        "id": "HKRTWLMUB_nl"
      },
      "source": [
        "# Create some helper classes and functions"
      ]
    },
    {
      "cell_type": "code",
      "metadata": {
        "id": "X5Decfe8B7Xr"
      },
      "source": [
        "class Neo4jConnection:\n",
        "    \n",
        "    def __init__(self, uri, user, pwd):\n",
        "        self.__uri = uri\n",
        "        self.__user = user\n",
        "        self.__pwd = pwd\n",
        "        self.__driver = None\n",
        "        try:\n",
        "            self.__driver = GraphDatabase.driver(self.__uri, auth=(self.__user, self.__pwd))\n",
        "        except Exception as e:\n",
        "            print(\"Failed to create the driver:\", e)\n",
        "        \n",
        "    def close(self):\n",
        "        if self.__driver is not None:\n",
        "            self.__driver.close()\n",
        "        \n",
        "    def query(self, query, parameters=None, db=None):\n",
        "        assert self.__driver is not None, \"Driver not initialized!\"\n",
        "        session = None\n",
        "        response = None\n",
        "        try: \n",
        "            session = self.__driver.session(database=db) if db is not None else self.__driver.session() \n",
        "            response = list(session.run(query, parameters))\n",
        "        except Exception as e:\n",
        "            print(\"Query failed:\", e)\n",
        "        finally: \n",
        "            if session is not None:\n",
        "                session.close()\n",
        "        return response"
      ],
      "execution_count": 9,
      "outputs": []
    },
    {
      "cell_type": "code",
      "metadata": {
        "id": "2kSECmKkCDX9"
      },
      "source": [
        "def get_author_list(line):\n",
        "    # Cleans author dataframe column, creating a list of authors in the row.\n",
        "    \n",
        "    return [e[1] + ' ' + e[0] for e in line]\n",
        "\n",
        "\n",
        "def get_category_list(line):\n",
        "    # Cleans category dataframe column, creating a list of categories in the\n",
        "    # row.\n",
        "    \n",
        "    return list(line.split(\" \"))\n",
        "\n",
        "\n",
        "def add_categories(categories):\n",
        "    # Adds category nodes to the Neo4j graph.\n",
        "  \n",
        "    query = '''UNWIND $rows AS row\n",
        "    MERGE (c:Category {category: row.category})\n",
        "    RETURN count(*) as total\n",
        "    '''\n",
        "    \n",
        "    return conn.query(query, parameters={'rows': categories.to_dict('records')})\n",
        "\n",
        "\n",
        "def add_authors(rows, batch_size=10000):\n",
        "    # Adds author nodes to the Neo4j graph as a batch job.\n",
        "\n",
        "    query = '''UNWIND $rows AS row\n",
        "               MERGE (:Author {name: row.author})\n",
        "               RETURN count(*) as total\n",
        "    '''\n",
        "    return insert_data(query, rows, batch_size)\n",
        "\n",
        "\n",
        "def add_papers(rows, batch_size=5000):\n",
        "    # Adds paper nodes and (:Author)--(:Paper) and (:Paper)--(:Category)\n",
        "    # relationships to the Neo4j graph as a batch job.  (Note the smaller batch\n",
        "    # size due to the fact that this function is adding much more data than the\n",
        "    # add_authors() function.)\n",
        "\n",
        "    query = '''\n",
        "    UNWIND $rows as row\n",
        "    MERGE (p:Paper {id:row.id}) ON CREATE SET p.title = row.title\n",
        "\n",
        "    // connect categories\n",
        "    WITH row, p\n",
        "    UNWIND row.category_list AS category_name\n",
        "    MATCH (c:Category {category: category_name})\n",
        "    MERGE (p)-[:IN_CATEGORY]->(c)\n",
        "\n",
        "    // connect authors\n",
        "    WITH distinct row, p // reduce cardinality\n",
        "    UNWIND row.cleaned_authors_list AS author\n",
        "    MATCH (a:Author {name: author})\n",
        "    MERGE (a)-[:AUTHORED]->(p)\n",
        "    RETURN count(distinct p) as total\n",
        "    '''\n",
        "\n",
        "    return insert_data(query, rows, batch_size)\n",
        "\n",
        "\n",
        "def insert_data(query, rows, batch_size = 10000):\n",
        "    # Function to handle the updating the Neo4j database in batch mode.\n",
        "\n",
        "    total = 0\n",
        "    batch = 0\n",
        "    start = time.time()\n",
        "    result = None\n",
        "\n",
        "    while batch * batch_size < len(rows):\n",
        "\n",
        "        res = conn.query(query, parameters={'rows': rows[batch*batch_size:(batch+1)*batch_size].to_dict('records')})\n",
        "        total += res[0]['total']\n",
        "        batch += 1\n",
        "        result = {\"total\":total, \"batches\":batch, \"time\":time.time()-start}\n",
        "        print(result)\n",
        "\n",
        "    return result\n"
      ],
      "execution_count": 10,
      "outputs": []
    },
    {
      "cell_type": "markdown",
      "metadata": {
        "id": "SKdLcshRDfzG"
      },
      "source": [
        "# Data loading and cleaning"
      ]
    },
    {
      "cell_type": "code",
      "metadata": {
        "colab": {
          "base_uri": "https://localhost:8080/",
          "height": 739
        },
        "id": "0ZR4dk3EDL9I",
        "outputId": "41fb628e-1773-460a-b423-b95ee68ce9e8"
      },
      "source": [
        "file = \"./arxiv-metadata-oai-snapshot.json\"\n",
        "\n",
        "metadata  = []\n",
        "\n",
        "lines = 1000000    # 100k for testing\n",
        "with open(file, 'r') as f:\n",
        "    for line in tqdm(f): \n",
        "        metadata.append(json.loads(line))\n",
        "        lines -= 1\n",
        "        if lines == 0: break\n",
        "\n",
        "df = pd.DataFrame(metadata)\n",
        "df.head()"
      ],
      "execution_count": 11,
      "outputs": [
        {
          "output_type": "stream",
          "name": "stderr",
          "text": [
            "999999it [00:47, 20997.77it/s]\n"
          ]
        },
        {
          "output_type": "execute_result",
          "data": {
            "text/plain": [
              "          id           submitter  \\\n",
              "0  0704.0001      Pavel Nadolsky   \n",
              "1  0704.0002        Louis Theran   \n",
              "2  0704.0003         Hongjun Pan   \n",
              "3  0704.0004        David Callan   \n",
              "4  0704.0005  Alberto Torchinsky   \n",
              "\n",
              "                                             authors  \\\n",
              "0  C. Bal\\'azs, E. L. Berger, P. M. Nadolsky, C.-...   \n",
              "1                    Ileana Streinu and Louis Theran   \n",
              "2                                        Hongjun Pan   \n",
              "3                                       David Callan   \n",
              "4           Wael Abu-Shammala and Alberto Torchinsky   \n",
              "\n",
              "                                               title  \\\n",
              "0  Calculation of prompt diphoton production cros...   \n",
              "1           Sparsity-certifying Graph Decompositions   \n",
              "2  The evolution of the Earth-Moon system based o...   \n",
              "3  A determinant of Stirling cycle numbers counts...   \n",
              "4  From dyadic $\\Lambda_{\\alpha}$ to $\\Lambda_{\\a...   \n",
              "\n",
              "                                  comments  \\\n",
              "0  37 pages, 15 figures; published version   \n",
              "1    To appear in Graphs and Combinatorics   \n",
              "2                      23 pages, 3 figures   \n",
              "3                                 11 pages   \n",
              "4                                     None   \n",
              "\n",
              "                                 journal-ref                         doi  \\\n",
              "0                   Phys.Rev.D76:013009,2007  10.1103/PhysRevD.76.013009   \n",
              "1                                       None                        None   \n",
              "2                                       None                        None   \n",
              "3                                       None                        None   \n",
              "4  Illinois J. Math. 52 (2008) no.2, 681-689                        None   \n",
              "\n",
              "          report-no       categories  \\\n",
              "0  ANL-HEP-PR-07-12           hep-ph   \n",
              "1              None    math.CO cs.CG   \n",
              "2              None   physics.gen-ph   \n",
              "3              None          math.CO   \n",
              "4              None  math.CA math.FA   \n",
              "\n",
              "                                             license  \\\n",
              "0                                               None   \n",
              "1  http://arxiv.org/licenses/nonexclusive-distrib...   \n",
              "2                                               None   \n",
              "3                                               None   \n",
              "4                                               None   \n",
              "\n",
              "                                            abstract  \\\n",
              "0    A fully differential calculation in perturba...   \n",
              "1    We describe a new algorithm, the $(k,\\ell)$-...   \n",
              "2    The evolution of Earth-Moon system is descri...   \n",
              "3    We show that a determinant of Stirling cycle...   \n",
              "4    In this paper we show how to compute the $\\L...   \n",
              "\n",
              "                                            versions update_date  \\\n",
              "0  [{'version': 'v1', 'created': 'Mon, 2 Apr 2007...  2008-11-26   \n",
              "1  [{'version': 'v1', 'created': 'Sat, 31 Mar 200...  2008-12-13   \n",
              "2  [{'version': 'v1', 'created': 'Sun, 1 Apr 2007...  2008-01-13   \n",
              "3  [{'version': 'v1', 'created': 'Sat, 31 Mar 200...  2007-05-23   \n",
              "4  [{'version': 'v1', 'created': 'Mon, 2 Apr 2007...  2013-10-15   \n",
              "\n",
              "                                      authors_parsed  \n",
              "0  [[Balázs, C., ], [Berger, E. L., ], [Nadolsky,...  \n",
              "1           [[Streinu, Ileana, ], [Theran, Louis, ]]  \n",
              "2                                 [[Pan, Hongjun, ]]  \n",
              "3                                [[Callan, David, ]]  \n",
              "4  [[Abu-Shammala, Wael, ], [Torchinsky, Alberto, ]]  "
            ],
            "text/html": [
              "\n",
              "  <div id=\"df-81d56be4-72af-4235-9e9b-9cf2386f2123\">\n",
              "    <div class=\"colab-df-container\">\n",
              "      <div>\n",
              "<style scoped>\n",
              "    .dataframe tbody tr th:only-of-type {\n",
              "        vertical-align: middle;\n",
              "    }\n",
              "\n",
              "    .dataframe tbody tr th {\n",
              "        vertical-align: top;\n",
              "    }\n",
              "\n",
              "    .dataframe thead th {\n",
              "        text-align: right;\n",
              "    }\n",
              "</style>\n",
              "<table border=\"1\" class=\"dataframe\">\n",
              "  <thead>\n",
              "    <tr style=\"text-align: right;\">\n",
              "      <th></th>\n",
              "      <th>id</th>\n",
              "      <th>submitter</th>\n",
              "      <th>authors</th>\n",
              "      <th>title</th>\n",
              "      <th>comments</th>\n",
              "      <th>journal-ref</th>\n",
              "      <th>doi</th>\n",
              "      <th>report-no</th>\n",
              "      <th>categories</th>\n",
              "      <th>license</th>\n",
              "      <th>abstract</th>\n",
              "      <th>versions</th>\n",
              "      <th>update_date</th>\n",
              "      <th>authors_parsed</th>\n",
              "    </tr>\n",
              "  </thead>\n",
              "  <tbody>\n",
              "    <tr>\n",
              "      <th>0</th>\n",
              "      <td>0704.0001</td>\n",
              "      <td>Pavel Nadolsky</td>\n",
              "      <td>C. Bal\\'azs, E. L. Berger, P. M. Nadolsky, C.-...</td>\n",
              "      <td>Calculation of prompt diphoton production cros...</td>\n",
              "      <td>37 pages, 15 figures; published version</td>\n",
              "      <td>Phys.Rev.D76:013009,2007</td>\n",
              "      <td>10.1103/PhysRevD.76.013009</td>\n",
              "      <td>ANL-HEP-PR-07-12</td>\n",
              "      <td>hep-ph</td>\n",
              "      <td>None</td>\n",
              "      <td>A fully differential calculation in perturba...</td>\n",
              "      <td>[{'version': 'v1', 'created': 'Mon, 2 Apr 2007...</td>\n",
              "      <td>2008-11-26</td>\n",
              "      <td>[[Balázs, C., ], [Berger, E. L., ], [Nadolsky,...</td>\n",
              "    </tr>\n",
              "    <tr>\n",
              "      <th>1</th>\n",
              "      <td>0704.0002</td>\n",
              "      <td>Louis Theran</td>\n",
              "      <td>Ileana Streinu and Louis Theran</td>\n",
              "      <td>Sparsity-certifying Graph Decompositions</td>\n",
              "      <td>To appear in Graphs and Combinatorics</td>\n",
              "      <td>None</td>\n",
              "      <td>None</td>\n",
              "      <td>None</td>\n",
              "      <td>math.CO cs.CG</td>\n",
              "      <td>http://arxiv.org/licenses/nonexclusive-distrib...</td>\n",
              "      <td>We describe a new algorithm, the $(k,\\ell)$-...</td>\n",
              "      <td>[{'version': 'v1', 'created': 'Sat, 31 Mar 200...</td>\n",
              "      <td>2008-12-13</td>\n",
              "      <td>[[Streinu, Ileana, ], [Theran, Louis, ]]</td>\n",
              "    </tr>\n",
              "    <tr>\n",
              "      <th>2</th>\n",
              "      <td>0704.0003</td>\n",
              "      <td>Hongjun Pan</td>\n",
              "      <td>Hongjun Pan</td>\n",
              "      <td>The evolution of the Earth-Moon system based o...</td>\n",
              "      <td>23 pages, 3 figures</td>\n",
              "      <td>None</td>\n",
              "      <td>None</td>\n",
              "      <td>None</td>\n",
              "      <td>physics.gen-ph</td>\n",
              "      <td>None</td>\n",
              "      <td>The evolution of Earth-Moon system is descri...</td>\n",
              "      <td>[{'version': 'v1', 'created': 'Sun, 1 Apr 2007...</td>\n",
              "      <td>2008-01-13</td>\n",
              "      <td>[[Pan, Hongjun, ]]</td>\n",
              "    </tr>\n",
              "    <tr>\n",
              "      <th>3</th>\n",
              "      <td>0704.0004</td>\n",
              "      <td>David Callan</td>\n",
              "      <td>David Callan</td>\n",
              "      <td>A determinant of Stirling cycle numbers counts...</td>\n",
              "      <td>11 pages</td>\n",
              "      <td>None</td>\n",
              "      <td>None</td>\n",
              "      <td>None</td>\n",
              "      <td>math.CO</td>\n",
              "      <td>None</td>\n",
              "      <td>We show that a determinant of Stirling cycle...</td>\n",
              "      <td>[{'version': 'v1', 'created': 'Sat, 31 Mar 200...</td>\n",
              "      <td>2007-05-23</td>\n",
              "      <td>[[Callan, David, ]]</td>\n",
              "    </tr>\n",
              "    <tr>\n",
              "      <th>4</th>\n",
              "      <td>0704.0005</td>\n",
              "      <td>Alberto Torchinsky</td>\n",
              "      <td>Wael Abu-Shammala and Alberto Torchinsky</td>\n",
              "      <td>From dyadic $\\Lambda_{\\alpha}$ to $\\Lambda_{\\a...</td>\n",
              "      <td>None</td>\n",
              "      <td>Illinois J. Math. 52 (2008) no.2, 681-689</td>\n",
              "      <td>None</td>\n",
              "      <td>None</td>\n",
              "      <td>math.CA math.FA</td>\n",
              "      <td>None</td>\n",
              "      <td>In this paper we show how to compute the $\\L...</td>\n",
              "      <td>[{'version': 'v1', 'created': 'Mon, 2 Apr 2007...</td>\n",
              "      <td>2013-10-15</td>\n",
              "      <td>[[Abu-Shammala, Wael, ], [Torchinsky, Alberto, ]]</td>\n",
              "    </tr>\n",
              "  </tbody>\n",
              "</table>\n",
              "</div>\n",
              "      <button class=\"colab-df-convert\" onclick=\"convertToInteractive('df-81d56be4-72af-4235-9e9b-9cf2386f2123')\"\n",
              "              title=\"Convert this dataframe to an interactive table.\"\n",
              "              style=\"display:none;\">\n",
              "        \n",
              "  <svg xmlns=\"http://www.w3.org/2000/svg\" height=\"24px\"viewBox=\"0 0 24 24\"\n",
              "       width=\"24px\">\n",
              "    <path d=\"M0 0h24v24H0V0z\" fill=\"none\"/>\n",
              "    <path d=\"M18.56 5.44l.94 2.06.94-2.06 2.06-.94-2.06-.94-.94-2.06-.94 2.06-2.06.94zm-11 1L8.5 8.5l.94-2.06 2.06-.94-2.06-.94L8.5 2.5l-.94 2.06-2.06.94zm10 10l.94 2.06.94-2.06 2.06-.94-2.06-.94-.94-2.06-.94 2.06-2.06.94z\"/><path d=\"M17.41 7.96l-1.37-1.37c-.4-.4-.92-.59-1.43-.59-.52 0-1.04.2-1.43.59L10.3 9.45l-7.72 7.72c-.78.78-.78 2.05 0 2.83L4 21.41c.39.39.9.59 1.41.59.51 0 1.02-.2 1.41-.59l7.78-7.78 2.81-2.81c.8-.78.8-2.07 0-2.86zM5.41 20L4 18.59l7.72-7.72 1.47 1.35L5.41 20z\"/>\n",
              "  </svg>\n",
              "      </button>\n",
              "      \n",
              "  <style>\n",
              "    .colab-df-container {\n",
              "      display:flex;\n",
              "      flex-wrap:wrap;\n",
              "      gap: 12px;\n",
              "    }\n",
              "\n",
              "    .colab-df-convert {\n",
              "      background-color: #E8F0FE;\n",
              "      border: none;\n",
              "      border-radius: 50%;\n",
              "      cursor: pointer;\n",
              "      display: none;\n",
              "      fill: #1967D2;\n",
              "      height: 32px;\n",
              "      padding: 0 0 0 0;\n",
              "      width: 32px;\n",
              "    }\n",
              "\n",
              "    .colab-df-convert:hover {\n",
              "      background-color: #E2EBFA;\n",
              "      box-shadow: 0px 1px 2px rgba(60, 64, 67, 0.3), 0px 1px 3px 1px rgba(60, 64, 67, 0.15);\n",
              "      fill: #174EA6;\n",
              "    }\n",
              "\n",
              "    [theme=dark] .colab-df-convert {\n",
              "      background-color: #3B4455;\n",
              "      fill: #D2E3FC;\n",
              "    }\n",
              "\n",
              "    [theme=dark] .colab-df-convert:hover {\n",
              "      background-color: #434B5C;\n",
              "      box-shadow: 0px 1px 3px 1px rgba(0, 0, 0, 0.15);\n",
              "      filter: drop-shadow(0px 1px 2px rgba(0, 0, 0, 0.3));\n",
              "      fill: #FFFFFF;\n",
              "    }\n",
              "  </style>\n",
              "\n",
              "      <script>\n",
              "        const buttonEl =\n",
              "          document.querySelector('#df-81d56be4-72af-4235-9e9b-9cf2386f2123 button.colab-df-convert');\n",
              "        buttonEl.style.display =\n",
              "          google.colab.kernel.accessAllowed ? 'block' : 'none';\n",
              "\n",
              "        async function convertToInteractive(key) {\n",
              "          const element = document.querySelector('#df-81d56be4-72af-4235-9e9b-9cf2386f2123');\n",
              "          const dataTable =\n",
              "            await google.colab.kernel.invokeFunction('convertToInteractive',\n",
              "                                                     [key], {});\n",
              "          if (!dataTable) return;\n",
              "\n",
              "          const docLinkHtml = 'Like what you see? Visit the ' +\n",
              "            '<a target=\"_blank\" href=https://colab.research.google.com/notebooks/data_table.ipynb>data table notebook</a>'\n",
              "            + ' to learn more about interactive tables.';\n",
              "          element.innerHTML = '';\n",
              "          dataTable['output_type'] = 'display_data';\n",
              "          await google.colab.output.renderOutput(dataTable, element);\n",
              "          const docLink = document.createElement('div');\n",
              "          docLink.innerHTML = docLinkHtml;\n",
              "          element.appendChild(docLink);\n",
              "        }\n",
              "      </script>\n",
              "    </div>\n",
              "  </div>\n",
              "  "
            ]
          },
          "metadata": {},
          "execution_count": 11
        }
      ]
    },
    {
      "cell_type": "code",
      "metadata": {
        "colab": {
          "base_uri": "https://localhost:8080/",
          "height": 354
        },
        "id": "zldZOk9JDXb_",
        "outputId": "ab27ca18-d049-4d1e-e585-31340a01a887"
      },
      "source": [
        "df['cleaned_authors_list'] = df['authors_parsed'].map(get_author_list)\n",
        "df['category_list'] = df['categories'].map(get_category_list)\n",
        "df = df.drop(['submitter', 'authors', 'comments', 'journal-ref', 'doi', \n",
        "              'report-no', 'license', 'versions', 'update_date', 'abstract', \n",
        "              'authors_parsed', 'categories'], axis=1)\n",
        "df.head()"
      ],
      "execution_count": 12,
      "outputs": [
        {
          "output_type": "execute_result",
          "data": {
            "text/plain": [
              "          id                                              title  \\\n",
              "0  0704.0001  Calculation of prompt diphoton production cros...   \n",
              "1  0704.0002           Sparsity-certifying Graph Decompositions   \n",
              "2  0704.0003  The evolution of the Earth-Moon system based o...   \n",
              "3  0704.0004  A determinant of Stirling cycle numbers counts...   \n",
              "4  0704.0005  From dyadic $\\Lambda_{\\alpha}$ to $\\Lambda_{\\a...   \n",
              "\n",
              "                                cleaned_authors_list       category_list  \n",
              "0  [C. Balázs, E. L. Berger, P. M. Nadolsky, C. -...            [hep-ph]  \n",
              "1                     [Ileana Streinu, Louis Theran]    [math.CO, cs.CG]  \n",
              "2                                      [Hongjun Pan]    [physics.gen-ph]  \n",
              "3                                     [David Callan]           [math.CO]  \n",
              "4            [Wael Abu-Shammala, Alberto Torchinsky]  [math.CA, math.FA]  "
            ],
            "text/html": [
              "\n",
              "  <div id=\"df-6a4fb326-867b-462c-852c-7f6e9bc42bf5\">\n",
              "    <div class=\"colab-df-container\">\n",
              "      <div>\n",
              "<style scoped>\n",
              "    .dataframe tbody tr th:only-of-type {\n",
              "        vertical-align: middle;\n",
              "    }\n",
              "\n",
              "    .dataframe tbody tr th {\n",
              "        vertical-align: top;\n",
              "    }\n",
              "\n",
              "    .dataframe thead th {\n",
              "        text-align: right;\n",
              "    }\n",
              "</style>\n",
              "<table border=\"1\" class=\"dataframe\">\n",
              "  <thead>\n",
              "    <tr style=\"text-align: right;\">\n",
              "      <th></th>\n",
              "      <th>id</th>\n",
              "      <th>title</th>\n",
              "      <th>cleaned_authors_list</th>\n",
              "      <th>category_list</th>\n",
              "    </tr>\n",
              "  </thead>\n",
              "  <tbody>\n",
              "    <tr>\n",
              "      <th>0</th>\n",
              "      <td>0704.0001</td>\n",
              "      <td>Calculation of prompt diphoton production cros...</td>\n",
              "      <td>[C. Balázs, E. L. Berger, P. M. Nadolsky, C. -...</td>\n",
              "      <td>[hep-ph]</td>\n",
              "    </tr>\n",
              "    <tr>\n",
              "      <th>1</th>\n",
              "      <td>0704.0002</td>\n",
              "      <td>Sparsity-certifying Graph Decompositions</td>\n",
              "      <td>[Ileana Streinu, Louis Theran]</td>\n",
              "      <td>[math.CO, cs.CG]</td>\n",
              "    </tr>\n",
              "    <tr>\n",
              "      <th>2</th>\n",
              "      <td>0704.0003</td>\n",
              "      <td>The evolution of the Earth-Moon system based o...</td>\n",
              "      <td>[Hongjun Pan]</td>\n",
              "      <td>[physics.gen-ph]</td>\n",
              "    </tr>\n",
              "    <tr>\n",
              "      <th>3</th>\n",
              "      <td>0704.0004</td>\n",
              "      <td>A determinant of Stirling cycle numbers counts...</td>\n",
              "      <td>[David Callan]</td>\n",
              "      <td>[math.CO]</td>\n",
              "    </tr>\n",
              "    <tr>\n",
              "      <th>4</th>\n",
              "      <td>0704.0005</td>\n",
              "      <td>From dyadic $\\Lambda_{\\alpha}$ to $\\Lambda_{\\a...</td>\n",
              "      <td>[Wael Abu-Shammala, Alberto Torchinsky]</td>\n",
              "      <td>[math.CA, math.FA]</td>\n",
              "    </tr>\n",
              "  </tbody>\n",
              "</table>\n",
              "</div>\n",
              "      <button class=\"colab-df-convert\" onclick=\"convertToInteractive('df-6a4fb326-867b-462c-852c-7f6e9bc42bf5')\"\n",
              "              title=\"Convert this dataframe to an interactive table.\"\n",
              "              style=\"display:none;\">\n",
              "        \n",
              "  <svg xmlns=\"http://www.w3.org/2000/svg\" height=\"24px\"viewBox=\"0 0 24 24\"\n",
              "       width=\"24px\">\n",
              "    <path d=\"M0 0h24v24H0V0z\" fill=\"none\"/>\n",
              "    <path d=\"M18.56 5.44l.94 2.06.94-2.06 2.06-.94-2.06-.94-.94-2.06-.94 2.06-2.06.94zm-11 1L8.5 8.5l.94-2.06 2.06-.94-2.06-.94L8.5 2.5l-.94 2.06-2.06.94zm10 10l.94 2.06.94-2.06 2.06-.94-2.06-.94-.94-2.06-.94 2.06-2.06.94z\"/><path d=\"M17.41 7.96l-1.37-1.37c-.4-.4-.92-.59-1.43-.59-.52 0-1.04.2-1.43.59L10.3 9.45l-7.72 7.72c-.78.78-.78 2.05 0 2.83L4 21.41c.39.39.9.59 1.41.59.51 0 1.02-.2 1.41-.59l7.78-7.78 2.81-2.81c.8-.78.8-2.07 0-2.86zM5.41 20L4 18.59l7.72-7.72 1.47 1.35L5.41 20z\"/>\n",
              "  </svg>\n",
              "      </button>\n",
              "      \n",
              "  <style>\n",
              "    .colab-df-container {\n",
              "      display:flex;\n",
              "      flex-wrap:wrap;\n",
              "      gap: 12px;\n",
              "    }\n",
              "\n",
              "    .colab-df-convert {\n",
              "      background-color: #E8F0FE;\n",
              "      border: none;\n",
              "      border-radius: 50%;\n",
              "      cursor: pointer;\n",
              "      display: none;\n",
              "      fill: #1967D2;\n",
              "      height: 32px;\n",
              "      padding: 0 0 0 0;\n",
              "      width: 32px;\n",
              "    }\n",
              "\n",
              "    .colab-df-convert:hover {\n",
              "      background-color: #E2EBFA;\n",
              "      box-shadow: 0px 1px 2px rgba(60, 64, 67, 0.3), 0px 1px 3px 1px rgba(60, 64, 67, 0.15);\n",
              "      fill: #174EA6;\n",
              "    }\n",
              "\n",
              "    [theme=dark] .colab-df-convert {\n",
              "      background-color: #3B4455;\n",
              "      fill: #D2E3FC;\n",
              "    }\n",
              "\n",
              "    [theme=dark] .colab-df-convert:hover {\n",
              "      background-color: #434B5C;\n",
              "      box-shadow: 0px 1px 3px 1px rgba(0, 0, 0, 0.15);\n",
              "      filter: drop-shadow(0px 1px 2px rgba(0, 0, 0, 0.3));\n",
              "      fill: #FFFFFF;\n",
              "    }\n",
              "  </style>\n",
              "\n",
              "      <script>\n",
              "        const buttonEl =\n",
              "          document.querySelector('#df-6a4fb326-867b-462c-852c-7f6e9bc42bf5 button.colab-df-convert');\n",
              "        buttonEl.style.display =\n",
              "          google.colab.kernel.accessAllowed ? 'block' : 'none';\n",
              "\n",
              "        async function convertToInteractive(key) {\n",
              "          const element = document.querySelector('#df-6a4fb326-867b-462c-852c-7f6e9bc42bf5');\n",
              "          const dataTable =\n",
              "            await google.colab.kernel.invokeFunction('convertToInteractive',\n",
              "                                                     [key], {});\n",
              "          if (!dataTable) return;\n",
              "\n",
              "          const docLinkHtml = 'Like what you see? Visit the ' +\n",
              "            '<a target=\"_blank\" href=https://colab.research.google.com/notebooks/data_table.ipynb>data table notebook</a>'\n",
              "            + ' to learn more about interactive tables.';\n",
              "          element.innerHTML = '';\n",
              "          dataTable['output_type'] = 'display_data';\n",
              "          await google.colab.output.renderOutput(dataTable, element);\n",
              "          const docLink = document.createElement('div');\n",
              "          docLink.innerHTML = docLinkHtml;\n",
              "          element.appendChild(docLink);\n",
              "        }\n",
              "      </script>\n",
              "    </div>\n",
              "  </div>\n",
              "  "
            ]
          },
          "metadata": {},
          "execution_count": 12
        }
      ]
    },
    {
      "cell_type": "markdown",
      "metadata": {
        "id": "ZnymN-YJEEi5"
      },
      "source": [
        "# Prepare :Category nodes"
      ]
    },
    {
      "cell_type": "code",
      "metadata": {
        "colab": {
          "base_uri": "https://localhost:8080/"
        },
        "id": "YLslwHh5DbT7",
        "outputId": "11638a38-069d-4025-d869-41ea0cb1f3c0"
      },
      "source": [
        "categories = pd.DataFrame(df[['category_list']])\n",
        "categories.rename(columns={'category_list':'category'}, inplace=True)\n",
        "categories = categories.explode('category').drop_duplicates(subset=['category'])\n",
        "\n",
        "categories.size"
      ],
      "execution_count": 13,
      "outputs": [
        {
          "output_type": "execute_result",
          "data": {
            "text/plain": [
              "156"
            ]
          },
          "metadata": {},
          "execution_count": 13
        }
      ]
    },
    {
      "cell_type": "markdown",
      "metadata": {
        "id": "M2ricH2xDxG7"
      },
      "source": [
        "# Prepare :Author nodes"
      ]
    },
    {
      "cell_type": "code",
      "metadata": {
        "colab": {
          "base_uri": "https://localhost:8080/"
        },
        "id": "_PdUMVu3DsyY",
        "outputId": "8d8c83d8-7cba-47d6-9e18-0366668a71b4"
      },
      "source": [
        "authors = pd.DataFrame(df[['cleaned_authors_list']])\n",
        "\n",
        "authors.rename(columns={'cleaned_authors_list':'author'}, inplace=True)\n",
        "authors=authors.explode('author').drop_duplicates(subset=['author'])\n",
        "\n",
        "authors.size"
      ],
      "execution_count": 14,
      "outputs": [
        {
          "output_type": "execute_result",
          "data": {
            "text/plain": [
              "774342"
            ]
          },
          "metadata": {},
          "execution_count": 14
        }
      ]
    },
    {
      "cell_type": "markdown",
      "metadata": {
        "id": "EZ_Vuz1TETLN"
      },
      "source": [
        "# Establish connection to Neo4j Sandbox instance\n",
        "\n",
        "This demonstrationg uses the [Neo4j Sandbox](sandbox.neo4j.com), but a connection to any running Neo4j database will work, including your local machine.  A Sandbox instance does not last longer than about 3 days, so you will need to populate these values with that of your own instance."
      ]
    },
    {
      "cell_type": "code",
      "metadata": {
        "id": "gLPkdVTND0f8"
      },
      "source": [
        "conn = Neo4jConnection(uri=\"bolt://18.212.34.217:7687\", user=\"neo4j\", pwd=\"trouble-combatant-deals\")"
      ],
      "execution_count": 17,
      "outputs": []
    },
    {
      "cell_type": "markdown",
      "metadata": {
        "id": "D85NxPXhEkvw"
      },
      "source": [
        "# Populate the database\n",
        "\n",
        "This is achieved in three steps.  First, we create all constraints guaranteeing the uniqueness of each node.  Second, we create the each of the nodes themselves.  Finally, we create the relationships between all nodes (`:AUTHORED` and `:IN_CATEGORY`).  "
      ]
    },
    {
      "cell_type": "code",
      "metadata": {
        "colab": {
          "base_uri": "https://localhost:8080/"
        },
        "id": "whSNmJ2OEfLM",
        "outputId": "c97a133a-20e9-450b-f423-0a77d70be534"
      },
      "source": [
        "conn.query('CREATE CONSTRAINT papers IF NOT EXISTS ON (p:Paper) ASSERT p.id IS UNIQUE')\n",
        "conn.query('CREATE CONSTRAINT authors IF NOT EXISTS ON (a:Author) ASSERT a.name IS UNIQUE')\n",
        "conn.query('CREATE CONSTRAINT categories IF NOT EXISTS ON (c:Category) ASSERT c.category IS UNIQUE')"
      ],
      "execution_count": 18,
      "outputs": [
        {
          "output_type": "execute_result",
          "data": {
            "text/plain": [
              "[]"
            ]
          },
          "metadata": {},
          "execution_count": 18
        }
      ]
    },
    {
      "cell_type": "code",
      "metadata": {
        "colab": {
          "base_uri": "https://localhost:8080/"
        },
        "id": "iwuxIexbExi8",
        "outputId": "a73ddbd0-5ed3-4648-dd07-5830ba83c368"
      },
      "source": [
        "add_categories(categories)"
      ],
      "execution_count": 19,
      "outputs": [
        {
          "output_type": "execute_result",
          "data": {
            "text/plain": [
              "[<Record total=156>]"
            ]
          },
          "metadata": {},
          "execution_count": 19
        }
      ]
    },
    {
      "cell_type": "code",
      "metadata": {
        "colab": {
          "base_uri": "https://localhost:8080/"
        },
        "id": "RXLV2dzfE4d8",
        "outputId": "8552a6ba-a318-4942-a786-cdb31fd7e0f9"
      },
      "source": [
        "add_authors(authors)"
      ],
      "execution_count": 20,
      "outputs": [
        {
          "output_type": "stream",
          "name": "stdout",
          "text": [
            "{'total': 10000, 'batches': 1, 'time': 41.64620041847229}\n",
            "{'total': 20000, 'batches': 2, 'time': 52.43684530258179}\n",
            "{'total': 30000, 'batches': 3, 'time': 60.450549840927124}\n",
            "{'total': 40000, 'batches': 4, 'time': 64.04177641868591}\n",
            "{'total': 50000, 'batches': 5, 'time': 67.02721786499023}\n",
            "{'total': 60000, 'batches': 6, 'time': 67.93783617019653}\n",
            "{'total': 70000, 'batches': 7, 'time': 68.83630108833313}\n",
            "{'total': 80000, 'batches': 8, 'time': 69.56097435951233}\n",
            "{'total': 90000, 'batches': 9, 'time': 70.259024143219}\n",
            "{'total': 100000, 'batches': 10, 'time': 71.27084398269653}\n",
            "{'total': 110000, 'batches': 11, 'time': 72.1412763595581}\n",
            "{'total': 120000, 'batches': 12, 'time': 73.03204441070557}\n",
            "{'total': 130000, 'batches': 13, 'time': 74.12950539588928}\n",
            "{'total': 140000, 'batches': 14, 'time': 75.07221841812134}\n",
            "{'total': 150000, 'batches': 15, 'time': 76.15630626678467}\n",
            "{'total': 160000, 'batches': 16, 'time': 77.65308022499084}\n",
            "{'total': 170000, 'batches': 17, 'time': 79.07857775688171}\n",
            "{'total': 180000, 'batches': 18, 'time': 80.07008004188538}\n",
            "{'total': 190000, 'batches': 19, 'time': 80.94870781898499}\n",
            "{'total': 200000, 'batches': 20, 'time': 81.95844626426697}\n",
            "{'total': 210000, 'batches': 21, 'time': 82.83481502532959}\n",
            "{'total': 220000, 'batches': 22, 'time': 83.73903250694275}\n",
            "{'total': 230000, 'batches': 23, 'time': 84.95001816749573}\n",
            "{'total': 240000, 'batches': 24, 'time': 85.97534561157227}\n",
            "{'total': 250000, 'batches': 25, 'time': 86.86615681648254}\n",
            "{'total': 260000, 'batches': 26, 'time': 87.74446225166321}\n",
            "{'total': 270000, 'batches': 27, 'time': 89.22718644142151}\n",
            "{'total': 280000, 'batches': 28, 'time': 91.33041143417358}\n",
            "{'total': 290000, 'batches': 29, 'time': 92.33715295791626}\n",
            "{'total': 300000, 'batches': 30, 'time': 93.33133840560913}\n",
            "{'total': 310000, 'batches': 31, 'time': 94.24984908103943}\n",
            "{'total': 320000, 'batches': 32, 'time': 95.33128213882446}\n",
            "{'total': 330000, 'batches': 33, 'time': 96.27366518974304}\n",
            "{'total': 340000, 'batches': 34, 'time': 97.13684034347534}\n",
            "{'total': 350000, 'batches': 35, 'time': 98.23542666435242}\n",
            "{'total': 360000, 'batches': 36, 'time': 99.23221206665039}\n",
            "{'total': 370000, 'batches': 37, 'time': 100.14681959152222}\n",
            "{'total': 380000, 'batches': 38, 'time': 100.9623692035675}\n",
            "{'total': 390000, 'batches': 39, 'time': 101.8321053981781}\n",
            "{'total': 400000, 'batches': 40, 'time': 102.66376495361328}\n",
            "{'total': 410000, 'batches': 41, 'time': 103.84845447540283}\n",
            "{'total': 420000, 'batches': 42, 'time': 105.0493643283844}\n",
            "{'total': 430000, 'batches': 43, 'time': 106.56495475769043}\n",
            "{'total': 440000, 'batches': 44, 'time': 107.5461938381195}\n",
            "{'total': 450000, 'batches': 45, 'time': 108.37339496612549}\n",
            "{'total': 460000, 'batches': 46, 'time': 109.24015092849731}\n",
            "{'total': 470000, 'batches': 47, 'time': 110.04813480377197}\n",
            "{'total': 480000, 'batches': 48, 'time': 110.87177038192749}\n",
            "{'total': 490000, 'batches': 49, 'time': 111.67871975898743}\n",
            "{'total': 500000, 'batches': 50, 'time': 112.53798961639404}\n",
            "{'total': 510000, 'batches': 51, 'time': 113.3443386554718}\n",
            "{'total': 520000, 'batches': 52, 'time': 114.19135451316833}\n",
            "{'total': 530000, 'batches': 53, 'time': 115.346848487854}\n",
            "{'total': 540000, 'batches': 54, 'time': 116.15280342102051}\n",
            "{'total': 550000, 'batches': 55, 'time': 116.96109366416931}\n",
            "{'total': 560000, 'batches': 56, 'time': 117.74538087844849}\n",
            "{'total': 570000, 'batches': 57, 'time': 118.55668783187866}\n",
            "{'total': 580000, 'batches': 58, 'time': 119.65854692459106}\n",
            "{'total': 590000, 'batches': 59, 'time': 120.6474220752716}\n",
            "{'total': 600000, 'batches': 60, 'time': 121.5599730014801}\n",
            "{'total': 610000, 'batches': 61, 'time': 122.58511233329773}\n",
            "{'total': 620000, 'batches': 62, 'time': 123.53592276573181}\n",
            "{'total': 630000, 'batches': 63, 'time': 124.43339729309082}\n",
            "{'total': 640000, 'batches': 64, 'time': 126.43995714187622}\n",
            "{'total': 650000, 'batches': 65, 'time': 127.35329461097717}\n",
            "{'total': 660000, 'batches': 66, 'time': 128.23851108551025}\n",
            "{'total': 670000, 'batches': 67, 'time': 129.12878966331482}\n",
            "{'total': 680000, 'batches': 68, 'time': 129.97923278808594}\n",
            "{'total': 690000, 'batches': 69, 'time': 130.8632824420929}\n",
            "{'total': 700000, 'batches': 70, 'time': 131.75106954574585}\n",
            "{'total': 710000, 'batches': 71, 'time': 133.03005003929138}\n",
            "{'total': 720000, 'batches': 72, 'time': 135.47024011611938}\n",
            "{'total': 730000, 'batches': 73, 'time': 136.34773659706116}\n",
            "{'total': 740000, 'batches': 74, 'time': 137.24535036087036}\n",
            "{'total': 750000, 'batches': 75, 'time': 138.07610416412354}\n",
            "{'total': 760000, 'batches': 76, 'time': 138.94269633293152}\n",
            "{'total': 770000, 'batches': 77, 'time': 139.92786145210266}\n",
            "{'total': 774342, 'batches': 78, 'time': 141.24335718154907}\n"
          ]
        },
        {
          "output_type": "execute_result",
          "data": {
            "text/plain": [
              "{'total': 774342, 'batches': 78, 'time': 141.24335718154907}"
            ]
          },
          "metadata": {},
          "execution_count": 20
        }
      ]
    },
    {
      "cell_type": "markdown",
      "metadata": {
        "id": "rxQoqA0xFMiE"
      },
      "source": [
        "# Add :Papers nodes and population all relationships\n",
        "\n",
        "(This might take a few minutes.)"
      ]
    },
    {
      "cell_type": "code",
      "metadata": {
        "colab": {
          "base_uri": "https://localhost:8080/"
        },
        "id": "zwtkx710E8_M",
        "outputId": "f2a6d34a-3914-4751-9406-8f9186470a48"
      },
      "source": [
        "add_papers(df)"
      ],
      "execution_count": null,
      "outputs": [
        {
          "output_type": "stream",
          "name": "stdout",
          "text": [
            "{'total': 5000, 'batches': 1, 'time': 32.88710355758667}\n",
            "{'total': 10000, 'batches': 2, 'time': 53.16979169845581}\n",
            "{'total': 15000, 'batches': 3, 'time': 62.09406280517578}\n",
            "{'total': 20000, 'batches': 4, 'time': 66.1728687286377}\n",
            "{'total': 25000, 'batches': 5, 'time': 71.30660891532898}\n",
            "{'total': 30000, 'batches': 6, 'time': 74.40240144729614}\n",
            "{'total': 35000, 'batches': 7, 'time': 77.69703269004822}\n",
            "{'total': 40000, 'batches': 8, 'time': 80.98806118965149}\n",
            "{'total': 45000, 'batches': 9, 'time': 84.49893236160278}\n",
            "{'total': 50000, 'batches': 10, 'time': 87.37501692771912}\n",
            "{'total': 55000, 'batches': 11, 'time': 90.18114018440247}\n",
            "{'total': 60000, 'batches': 12, 'time': 94.18853640556335}\n",
            "{'total': 65000, 'batches': 13, 'time': 96.89500594139099}\n",
            "{'total': 70000, 'batches': 14, 'time': 99.8914623260498}\n",
            "{'total': 75000, 'batches': 15, 'time': 102.68576908111572}\n",
            "{'total': 80000, 'batches': 16, 'time': 105.79003715515137}\n",
            "{'total': 85000, 'batches': 17, 'time': 108.50846338272095}\n",
            "{'total': 90000, 'batches': 18, 'time': 111.384925365448}\n",
            "{'total': 95000, 'batches': 19, 'time': 115.5789065361023}\n",
            "{'total': 100000, 'batches': 20, 'time': 118.32439231872559}\n",
            "{'total': 105000, 'batches': 21, 'time': 121.18708539009094}\n",
            "{'total': 110000, 'batches': 22, 'time': 124.20144081115723}\n",
            "{'total': 115000, 'batches': 23, 'time': 127.33106017112732}\n",
            "{'total': 120000, 'batches': 24, 'time': 130.31622862815857}\n",
            "{'total': 125000, 'batches': 25, 'time': 133.11419868469238}\n",
            "{'total': 130000, 'batches': 26, 'time': 137.51762866973877}\n",
            "{'total': 135000, 'batches': 27, 'time': 140.20725417137146}\n",
            "{'total': 140000, 'batches': 28, 'time': 142.90989327430725}\n",
            "{'total': 145000, 'batches': 29, 'time': 145.87533521652222}\n",
            "{'total': 150000, 'batches': 30, 'time': 149.10262751579285}\n",
            "{'total': 155000, 'batches': 31, 'time': 153.08498978614807}\n",
            "{'total': 160000, 'batches': 32, 'time': 156.070166349411}\n",
            "{'total': 165000, 'batches': 33, 'time': 158.87715601921082}\n",
            "{'total': 170000, 'batches': 34, 'time': 162.3786222934723}\n",
            "{'total': 175000, 'batches': 35, 'time': 165.97146105766296}\n",
            "{'total': 180000, 'batches': 36, 'time': 169.0016360282898}\n",
            "{'total': 185000, 'batches': 37, 'time': 173.48207473754883}\n",
            "{'total': 190000, 'batches': 38, 'time': 176.58199739456177}\n",
            "{'total': 195000, 'batches': 39, 'time': 179.70486330986023}\n",
            "{'total': 200000, 'batches': 40, 'time': 182.89121913909912}\n",
            "{'total': 205000, 'batches': 41, 'time': 186.47168564796448}\n",
            "{'total': 210000, 'batches': 42, 'time': 189.497656583786}\n",
            "{'total': 215000, 'batches': 43, 'time': 194.10910534858704}\n",
            "{'total': 220000, 'batches': 44, 'time': 197.33765482902527}\n",
            "{'total': 225000, 'batches': 45, 'time': 200.497878074646}\n",
            "{'total': 230000, 'batches': 46, 'time': 203.7759108543396}\n",
            "{'total': 235000, 'batches': 47, 'time': 207.1740198135376}\n",
            "{'total': 240000, 'batches': 48, 'time': 210.82020735740662}\n",
            "{'total': 245000, 'batches': 49, 'time': 215.07845306396484}\n",
            "{'total': 250000, 'batches': 50, 'time': 218.36891627311707}\n",
            "{'total': 255000, 'batches': 51, 'time': 221.69706678390503}\n",
            "{'total': 260000, 'batches': 52, 'time': 225.68242502212524}\n",
            "{'total': 265000, 'batches': 53, 'time': 228.89744520187378}\n",
            "{'total': 270000, 'batches': 54, 'time': 233.37242102622986}\n",
            "{'total': 275000, 'batches': 55, 'time': 237.70269513130188}\n",
            "{'total': 280000, 'batches': 56, 'time': 241.19264817237854}\n",
            "{'total': 285000, 'batches': 57, 'time': 244.69087719917297}\n",
            "{'total': 290000, 'batches': 58, 'time': 248.5142207145691}\n",
            "{'total': 295000, 'batches': 59, 'time': 252.67112517356873}\n",
            "{'total': 300000, 'batches': 60, 'time': 257.2861967086792}\n",
            "{'total': 305000, 'batches': 61, 'time': 260.80260729789734}\n",
            "{'total': 310000, 'batches': 62, 'time': 264.6879303455353}\n",
            "{'total': 315000, 'batches': 63, 'time': 268.71195793151855}\n",
            "{'total': 320000, 'batches': 64, 'time': 272.18982672691345}\n",
            "{'total': 325000, 'batches': 65, 'time': 277.69893503189087}\n",
            "{'total': 330000, 'batches': 66, 'time': 281.4016318321228}\n",
            "{'total': 335000, 'batches': 67, 'time': 285.0981147289276}\n",
            "{'total': 340000, 'batches': 68, 'time': 289.3925414085388}\n",
            "{'total': 345000, 'batches': 69, 'time': 294.17059659957886}\n",
            "{'total': 350000, 'batches': 70, 'time': 299.1916105747223}\n",
            "{'total': 355000, 'batches': 71, 'time': 302.9005334377289}\n",
            "{'total': 360000, 'batches': 72, 'time': 307.17739367485046}\n",
            "{'total': 365000, 'batches': 73, 'time': 311.5948634147644}\n",
            "{'total': 370000, 'batches': 74, 'time': 315.4881329536438}\n",
            "{'total': 375000, 'batches': 75, 'time': 320.8869471549988}\n",
            "{'total': 380000, 'batches': 76, 'time': 324.9959805011749}\n",
            "{'total': 385000, 'batches': 77, 'time': 329.16979336738586}\n",
            "{'total': 390000, 'batches': 78, 'time': 333.78285789489746}\n",
            "{'total': 395000, 'batches': 79, 'time': 337.6814305782318}\n",
            "{'total': 400000, 'batches': 80, 'time': 342.20931673049927}\n",
            "{'total': 405000, 'batches': 81, 'time': 346.00459122657776}\n",
            "{'total': 410000, 'batches': 82, 'time': 349.70204305648804}\n",
            "{'total': 415000, 'batches': 83, 'time': 354.39527201652527}\n",
            "{'total': 420000, 'batches': 84, 'time': 359.59468960762024}\n",
            "{'total': 425000, 'batches': 85, 'time': 365.93882036209106}\n",
            "{'total': 430000, 'batches': 86, 'time': 370.4009630680084}\n",
            "{'total': 435000, 'batches': 87, 'time': 375.4748878479004}\n",
            "{'total': 440000, 'batches': 88, 'time': 379.7888984680176}\n",
            "{'total': 445000, 'batches': 89, 'time': 384.29051780700684}\n",
            "{'total': 450000, 'batches': 90, 'time': 390.58152174949646}\n",
            "{'total': 455000, 'batches': 91, 'time': 397.1053423881531}\n",
            "{'total': 460000, 'batches': 92, 'time': 401.66973519325256}\n",
            "{'total': 465000, 'batches': 93, 'time': 406.4898989200592}\n",
            "{'total': 470000, 'batches': 94, 'time': 411.4787242412567}\n",
            "{'total': 475000, 'batches': 95, 'time': 418.37238478660583}\n",
            "{'total': 480000, 'batches': 96, 'time': 423.1985881328583}\n",
            "{'total': 485000, 'batches': 97, 'time': 427.41423869132996}\n",
            "{'total': 490000, 'batches': 98, 'time': 431.1737458705902}\n",
            "{'total': 495000, 'batches': 99, 'time': 436.7022602558136}\n",
            "{'total': 500000, 'batches': 100, 'time': 441.00653982162476}\n",
            "{'total': 505000, 'batches': 101, 'time': 447.693222284317}\n",
            "{'total': 510000, 'batches': 102, 'time': 453.2745087146759}\n",
            "{'total': 515000, 'batches': 103, 'time': 458.67972469329834}\n",
            "{'total': 520000, 'batches': 104, 'time': 464.7852120399475}\n",
            "{'total': 525000, 'batches': 105, 'time': 469.7703630924225}\n",
            "{'total': 530000, 'batches': 106, 'time': 475.48385071754456}\n",
            "{'total': 535000, 'batches': 107, 'time': 481.38529324531555}\n",
            "{'total': 540000, 'batches': 108, 'time': 486.9748101234436}\n",
            "{'total': 545000, 'batches': 109, 'time': 493.71872067451477}\n",
            "{'total': 550000, 'batches': 110, 'time': 498.693279504776}\n",
            "{'total': 555000, 'batches': 111, 'time': 503.39668345451355}\n",
            "{'total': 560000, 'batches': 112, 'time': 508.3017065525055}\n",
            "{'total': 565000, 'batches': 113, 'time': 514.4154331684113}\n",
            "{'total': 570000, 'batches': 114, 'time': 519.393527507782}\n",
            "{'total': 575000, 'batches': 115, 'time': 524.9770488739014}\n",
            "{'total': 580000, 'batches': 116, 'time': 529.6751282215118}\n",
            "{'total': 585000, 'batches': 117, 'time': 534.7036075592041}\n",
            "{'total': 590000, 'batches': 118, 'time': 540.0832152366638}\n",
            "{'total': 595000, 'batches': 119, 'time': 545.1803753376007}\n",
            "{'total': 600000, 'batches': 120, 'time': 550.2891988754272}\n",
            "{'total': 605000, 'batches': 121, 'time': 555.2741882801056}\n",
            "{'total': 610000, 'batches': 122, 'time': 560.5792315006256}\n",
            "{'total': 615000, 'batches': 123, 'time': 567.3918888568878}\n",
            "{'total': 620000, 'batches': 124, 'time': 572.5801208019257}\n",
            "{'total': 625000, 'batches': 125, 'time': 577.8803150653839}\n",
            "{'total': 630000, 'batches': 126, 'time': 583.0050196647644}\n",
            "{'total': 635000, 'batches': 127, 'time': 587.2812538146973}\n",
            "{'total': 640000, 'batches': 128, 'time': 594.0843362808228}\n",
            "{'total': 645000, 'batches': 129, 'time': 599.507410287857}\n",
            "{'total': 650000, 'batches': 130, 'time': 604.687793970108}\n",
            "{'total': 655000, 'batches': 131, 'time': 610.1770601272583}\n",
            "{'total': 660000, 'batches': 132, 'time': 615.6009774208069}\n",
            "{'total': 665000, 'batches': 133, 'time': 621.7841441631317}\n",
            "{'total': 670000, 'batches': 134, 'time': 627.3975570201874}\n",
            "{'total': 675000, 'batches': 135, 'time': 631.9914405345917}\n",
            "{'total': 680000, 'batches': 136, 'time': 637.1103854179382}\n",
            "{'total': 685000, 'batches': 137, 'time': 643.6968941688538}\n",
            "{'total': 690000, 'batches': 138, 'time': 648.709136724472}\n",
            "{'total': 695000, 'batches': 139, 'time': 653.7173523902893}\n",
            "{'total': 700000, 'batches': 140, 'time': 659.1194274425507}\n",
            "{'total': 705000, 'batches': 141, 'time': 665.1928880214691}\n",
            "{'total': 710000, 'batches': 142, 'time': 672.177129983902}\n",
            "{'total': 715000, 'batches': 143, 'time': 677.9142105579376}\n",
            "{'total': 720000, 'batches': 144, 'time': 683.0078146457672}\n",
            "{'total': 725000, 'batches': 145, 'time': 688.6101574897766}\n",
            "{'total': 730000, 'batches': 146, 'time': 693.8021202087402}\n",
            "{'total': 735000, 'batches': 147, 'time': 699.8032870292664}\n",
            "{'total': 740000, 'batches': 148, 'time': 705.081714630127}\n",
            "{'total': 745000, 'batches': 149, 'time': 710.4976494312286}\n",
            "{'total': 750000, 'batches': 150, 'time': 715.7686767578125}\n",
            "{'total': 755000, 'batches': 151, 'time': 721.0890772342682}\n",
            "{'total': 760000, 'batches': 152, 'time': 729.0712761878967}\n",
            "{'total': 765000, 'batches': 153, 'time': 734.6119213104248}\n",
            "{'total': 770000, 'batches': 154, 'time': 739.9835271835327}\n",
            "{'total': 775000, 'batches': 155, 'time': 745.2031211853027}\n",
            "{'total': 780000, 'batches': 156, 'time': 750.4816291332245}\n",
            "{'total': 785000, 'batches': 157, 'time': 758.3849284648895}\n",
            "{'total': 790000, 'batches': 158, 'time': 763.9884638786316}\n",
            "{'total': 795000, 'batches': 159, 'time': 769.6999096870422}\n",
            "{'total': 800000, 'batches': 160, 'time': 775.9795157909393}\n",
            "{'total': 805000, 'batches': 161, 'time': 785.5716679096222}\n",
            "{'total': 810000, 'batches': 162, 'time': 790.8900210857391}\n",
            "{'total': 815000, 'batches': 163, 'time': 796.7923984527588}\n",
            "{'total': 820000, 'batches': 164, 'time': 802.2071213722229}\n",
            "{'total': 825000, 'batches': 165, 'time': 808.0953848361969}\n",
            "{'total': 830000, 'batches': 166, 'time': 814.8074307441711}\n",
            "{'total': 835000, 'batches': 167, 'time': 819.8068549633026}\n",
            "{'total': 840000, 'batches': 168, 'time': 825.5002570152283}\n",
            "{'total': 845000, 'batches': 169, 'time': 831.8706459999084}\n",
            "{'total': 850000, 'batches': 170, 'time': 837.2808408737183}\n",
            "{'total': 855000, 'batches': 171, 'time': 843.6789519786835}\n",
            "{'total': 860000, 'batches': 172, 'time': 849.1948008537292}\n",
            "{'total': 865000, 'batches': 173, 'time': 854.0924391746521}\n",
            "{'total': 870000, 'batches': 174, 'time': 859.972095489502}\n",
            "{'total': 875000, 'batches': 175, 'time': 865.6026549339294}\n",
            "{'total': 880000, 'batches': 176, 'time': 871.4893293380737}\n",
            "{'total': 885000, 'batches': 177, 'time': 880.1037302017212}\n",
            "{'total': 890000, 'batches': 178, 'time': 887.0740339756012}\n",
            "{'total': 895000, 'batches': 179, 'time': 893.0941269397736}\n",
            "{'total': 900000, 'batches': 180, 'time': 899.3978188037872}\n",
            "{'total': 905000, 'batches': 181, 'time': 907.7006125450134}\n",
            "{'total': 910000, 'batches': 182, 'time': 913.9815237522125}\n",
            "{'total': 915000, 'batches': 183, 'time': 920.269186258316}\n",
            "{'total': 920000, 'batches': 184, 'time': 926.1760487556458}\n",
            "{'total': 925000, 'batches': 185, 'time': 935.876585483551}\n",
            "{'total': 930000, 'batches': 186, 'time': 944.2900147438049}\n",
            "{'total': 935000, 'batches': 187, 'time': 951.5953722000122}\n",
            "{'total': 940000, 'batches': 188, 'time': 957.4884767532349}\n",
            "{'total': 945000, 'batches': 189, 'time': 965.7196590900421}\n"
          ]
        }
      ]
    },
    {
      "cell_type": "markdown",
      "metadata": {
        "id": "Jv5X8EpSFxZ1"
      },
      "source": [
        "# Confirm the database is properly populated with some simple queries"
      ]
    },
    {
      "cell_type": "code",
      "metadata": {
        "id": "N0y0qwXUFRpi"
      },
      "source": [
        "query_string = '''\n",
        "MATCH (c:Category) \n",
        "RETURN c.category, SIZE(()-[:IN_CATEGORY]->(c)) AS inDegree \n",
        "ORDER BY inDegree DESC LIMIT 20\n",
        "'''\n",
        "\n",
        "top_cat_df = pd.DataFrame([dict(_) for _ in conn.query(query_string)])\n",
        "top_cat_df.head(20)"
      ],
      "execution_count": null,
      "outputs": []
    },
    {
      "cell_type": "code",
      "metadata": {
        "id": "N0Rs5cPHF4Ga"
      },
      "source": [
        "plt.figure(figsize=(12,8))\n",
        "sns.barplot(x=top_cat_df['c.category'], y=top_cat_df['inDegree'])\n",
        "plt.xlabel('Category Name', fontsize=18)\n",
        "plt.ylabel('inDegree',fontsize=18)\n",
        "plt.xticks(rotation='vertical', fontsize=18)\n",
        "plt.show()"
      ],
      "execution_count": null,
      "outputs": []
    },
    {
      "cell_type": "markdown",
      "metadata": {
        "id": "G8HeWjciGFUi"
      },
      "source": [
        "# Alternative method to read graph data from Neo4j back to Python"
      ]
    },
    {
      "cell_type": "code",
      "metadata": {
        "id": "6uQO1XHbF75d"
      },
      "source": [
        "result = conn.query(query_string)\n",
        "\n",
        "for record in result:\n",
        "    print(record[0], record[1])"
      ],
      "execution_count": null,
      "outputs": []
    },
    {
      "cell_type": "code",
      "metadata": {
        "id": "bLRO1JfZGJVm"
      },
      "source": [],
      "execution_count": null,
      "outputs": []
    }
  ]
}